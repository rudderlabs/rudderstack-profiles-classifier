{
 "cells": [
  {
   "cell_type": "code",
   "execution_count": null,
   "metadata": {},
   "outputs": [],
   "source": [
    "import os\n",
    "import sys\n",
    "import yaml\n",
    "\n",
    "sys.path.append('./')\n",
    "sys.path.append('../')\n",
    "\n",
    "from src.predictions.rudderstack_predictions.connectors.SnowflakeConnector import SnowflakeConnector"
   ]
  },
  {
   "cell_type": "code",
   "execution_count": null,
   "metadata": {},
   "outputs": [],
   "source": [
    "homedir = os.path.expanduser(\"~\")\n",
    "\n",
    "with open(os.path.join(homedir, \".pb/siteconfig.yaml\"), \"r\") as f:\n",
    "    creds = yaml.safe_load(f)[\"connections\"][\"shopify_wh\"][\"outputs\"][\"dev\"]\n",
    "\n",
    "creds[\"schema\"] = \"PROFILES_INTEGRATION_TEST\"\n",
    "if creds[\"type\"] == \"snowflake\":\n",
    "    print(f\"Using {creds['schema']} schema in snowflake account: {creds['account']}\")"
   ]
  },
  {
   "cell_type": "markdown",
   "metadata": {},
   "source": [
    "## Define variables"
   ]
  },
  {
   "cell_type": "code",
   "execution_count": null,
   "metadata": {},
   "outputs": [],
   "source": [
    "thresold_date = '2024-03-10'\n",
    "creds[\"schema\"] = \"NAME_OF_THE_SCHEMA\""
   ]
  },
  {
   "cell_type": "code",
   "execution_count": null,
   "metadata": {},
   "outputs": [],
   "source": [
    "connector = SnowflakeConnector()\n",
    "session = connector.build_session(creds)"
   ]
  },
  {
   "cell_type": "code",
   "execution_count": null,
   "metadata": {},
   "outputs": [],
   "source": [
    "get_stage_name_query = f\"\"\"SELECT STAGE_NAME\n",
    "                                FROM INFORMATION_SCHEMA.STAGES\n",
    "                                WHERE STAGE_CATALOG = '{creds['dbname']}'\n",
    "                                AND STAGE_SCHEMA = '{creds['schema']}'\n",
    "                                AND DATE(CREATED) < '{thresold_date}';\"\"\""
   ]
  },
  {
   "cell_type": "code",
   "execution_count": null,
   "metadata": {},
   "outputs": [],
   "source": [
    "stage_names = connector.run_query(session, get_stage_name_query)"
   ]
  },
  {
   "cell_type": "code",
   "execution_count": null,
   "metadata": {},
   "outputs": [],
   "source": [
    "num_rows = len(stage_names)\n",
    "temp = 1\n",
    "\n",
    "for row in stage_names:\n",
    "    delete_stage_query = f\"\"\"drop stage if exists {creds['dbname']}.{creds['schema']}.{row.STAGE_NAME};\"\"\"\n",
    "    connector.run_query(session, delete_stage_query)\n",
    "    if temp%50==0:\n",
    "        print(f\"{temp} out of {num_rows} stages deleted\")\n",
    "    temp+=1"
   ]
  },
  {
   "cell_type": "code",
   "execution_count": null,
   "metadata": {},
   "outputs": [],
   "source": []
  }
 ],
 "metadata": {
  "kernelspec": {
   "display_name": "pysnowpark",
   "language": "python",
   "name": "python3"
  },
  "language_info": {
   "codemirror_mode": {
    "name": "ipython",
    "version": 3
   },
   "file_extension": ".py",
   "mimetype": "text/x-python",
   "name": "python",
   "nbconvert_exporter": "python",
   "pygments_lexer": "ipython3",
   "version": "3.8.17"
  }
 },
 "nbformat": 4,
 "nbformat_minor": 2
}
