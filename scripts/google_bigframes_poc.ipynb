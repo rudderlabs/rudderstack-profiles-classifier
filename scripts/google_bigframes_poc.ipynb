{
 "cells": [
  {
   "cell_type": "markdown",
   "metadata": {},
   "source": [
    "# Introduction\n",
    "\n",
    "BigQuery DataFrames provides a Pythonic DataFrame and machine learning (ML) API powered by the BigQuery engine.\n",
    "\n",
    "`bigframes.pandas provides a pandas-compatible API for analytics.`\n",
    "\n",
    "`bigframes.ml provides a scikit-learn-like API for ML.`\n",
    "\n",
    "BigQuery DataFrames is an open-source package. You can run pip install --upgrade bigframes to install the latest version.\n",
    "\n",
    "\n",
    "\n",
    "#### [Limitations](https://cloud.google.com/bigquery/docs/reference/standard-sql/bigqueryml-syntax-create-xgboost#limitations)\n"
   ]
  },
  {
   "attachments": {},
   "cell_type": "markdown",
   "metadata": {},
   "source": [
    "# XGBoost\n",
    "This demo shows how we can implement a XGBoost model in BigQuery DataFrames ML, with API that is exactly compatible with [xgboost](https://xgboost.readthedocs.io/en/stable/)."
   ]
  },
  {
   "attachments": {},
   "cell_type": "markdown",
   "metadata": {},
   "source": [
    "## 1. Init & load data"
   ]
  },
  {
   "cell_type": "code",
   "execution_count": 2,
   "metadata": {},
   "outputs": [
    {
     "data": {
      "text/html": [
       "Query job 66d04c9b-f655-42df-9838-ed846e8984bb is DONE. 1.6 MB processed. <a target=\"_blank\" href=\"https://console.cloud.google.com/bigquery?project=rudderstacktestbq&j=bq:US:66d04c9b-f655-42df-9838-ed846e8984bb&page=queryresults\">Open Job</a>"
      ],
      "text/plain": [
       "<IPython.core.display.HTML object>"
      ]
     },
     "metadata": {},
     "output_type": "display_data"
    },
    {
     "data": {
      "text/html": [
       "Query job b29adc2c-81ff-464d-89b1-de268df2bcc4 is DONE. 0 Bytes processed. <a target=\"_blank\" href=\"https://console.cloud.google.com/bigquery?project=rudderstacktestbq&j=bq:US:b29adc2c-81ff-464d-89b1-de268df2bcc4&page=queryresults\">Open Job</a>"
      ],
      "text/plain": [
       "<IPython.core.display.HTML object>"
      ]
     },
     "metadata": {},
     "output_type": "display_data"
    },
    {
     "data": {
      "text/html": [
       "Query job 8248c1d5-4746-4d47-88f9-8304323bc7f4 is DONE. 465 Bytes processed. <a target=\"_blank\" href=\"https://console.cloud.google.com/bigquery?project=rudderstacktestbq&j=bq:US:8248c1d5-4746-4d47-88f9-8304323bc7f4&page=queryresults\">Open Job</a>"
      ],
      "text/plain": [
       "<IPython.core.display.HTML object>"
      ]
     },
     "metadata": {},
     "output_type": "display_data"
    },
    {
     "data": {
      "text/html": [
       "<div>\n",
       "<style scoped>\n",
       "    .dataframe tbody tr th:only-of-type {\n",
       "        vertical-align: middle;\n",
       "    }\n",
       "\n",
       "    .dataframe tbody tr th {\n",
       "        vertical-align: top;\n",
       "    }\n",
       "\n",
       "    .dataframe thead th {\n",
       "        text-align: right;\n",
       "    }\n",
       "</style>\n",
       "<table border=\"1\" class=\"dataframe\">\n",
       "  <thead>\n",
       "    <tr style=\"text-align: right;\">\n",
       "      <th></th>\n",
       "      <th>user_main_id</th>\n",
       "      <th>max_timestamp_bw_tracks_pages</th>\n",
       "      <th>days_since_last_seen</th>\n",
       "      <th>gross_amt_spent_in_past_90_days</th>\n",
       "      <th>n_orders_completed</th>\n",
       "      <th>total_sessions_till_date</th>\n",
       "    </tr>\n",
       "  </thead>\n",
       "  <tbody>\n",
       "    <tr>\n",
       "      <th>0</th>\n",
       "      <td>rid82e1895a3dfe7016b31cd1be2df391a3</td>\n",
       "      <td>2024-02-23 07:14:24+00:00</td>\n",
       "      <td>12</td>\n",
       "      <td>85</td>\n",
       "      <td>2</td>\n",
       "      <td>2</td>\n",
       "    </tr>\n",
       "    <tr>\n",
       "      <th>1</th>\n",
       "      <td>riddebda526ff83fc8074a66518e798deb9</td>\n",
       "      <td>2024-09-19 05:24:13+00:00</td>\n",
       "      <td>-197</td>\n",
       "      <td>0</td>\n",
       "      <td>0</td>\n",
       "      <td>5</td>\n",
       "    </tr>\n",
       "    <tr>\n",
       "      <th>2</th>\n",
       "      <td>ridb3d4c2cce83e68befecebefd5985d5b8</td>\n",
       "      <td>2025-01-13 19:20:40+00:00</td>\n",
       "      <td>-313</td>\n",
       "      <td>0</td>\n",
       "      <td>0</td>\n",
       "      <td>5</td>\n",
       "    </tr>\n",
       "    <tr>\n",
       "      <th>3</th>\n",
       "      <td>ridaf45b47a9e3d7aefb947de86fa69324a</td>\n",
       "      <td>2024-04-06 17:01:31+00:00</td>\n",
       "      <td>-31</td>\n",
       "      <td>0</td>\n",
       "      <td>0</td>\n",
       "      <td>1</td>\n",
       "    </tr>\n",
       "    <tr>\n",
       "      <th>4</th>\n",
       "      <td>ridb087ba8f178c645584098db5d65e9eb5</td>\n",
       "      <td>2025-04-04 02:41:56+00:00</td>\n",
       "      <td>-394</td>\n",
       "      <td>0</td>\n",
       "      <td>0</td>\n",
       "      <td>4</td>\n",
       "    </tr>\n",
       "  </tbody>\n",
       "</table>\n",
       "<p>5 rows × 6 columns</p>\n",
       "</div>[5 rows x 6 columns in total]"
      ],
      "text/plain": [
       "                          user_main_id max_timestamp_bw_tracks_pages  \\\n",
       "0  rid82e1895a3dfe7016b31cd1be2df391a3     2024-02-23 07:14:24+00:00   \n",
       "1  riddebda526ff83fc8074a66518e798deb9     2024-09-19 05:24:13+00:00   \n",
       "2  ridb3d4c2cce83e68befecebefd5985d5b8     2025-01-13 19:20:40+00:00   \n",
       "3  ridaf45b47a9e3d7aefb947de86fa69324a     2024-04-06 17:01:31+00:00   \n",
       "4  ridb087ba8f178c645584098db5d65e9eb5     2025-04-04 02:41:56+00:00   \n",
       "\n",
       "   days_since_last_seen  gross_amt_spent_in_past_90_days  n_orders_completed  \\\n",
       "0                    12                               85                   2   \n",
       "1                  -197                                0                   0   \n",
       "2                  -313                                0                   0   \n",
       "3                   -31                                0                   0   \n",
       "4                  -394                                0                   0   \n",
       "\n",
       "   total_sessions_till_date  \n",
       "0                         2  \n",
       "1                         5  \n",
       "2                         5  \n",
       "3                         1  \n",
       "4                         4  \n",
       "\n",
       "[5 rows x 6 columns]"
      ]
     },
     "execution_count": 2,
     "metadata": {},
     "output_type": "execute_result"
    }
   ],
   "source": [
    "# Initialize BigQuery DataFrame\n",
    "import os \n",
    "import numpy as np\n",
    "import pandas as pd\n",
    "import seaborn as sns\n",
    "import bigframes.pandas as bpd\n",
    "import matplotlib.pyplot as plt\n",
    "from google.cloud import bigquery\n",
    "import bigframes.ml.metrics as bmetrics\n",
    "from bigframes.ml.pipeline import Pipeline\n",
    "from bigframes.ml.compose import ColumnTransformer\n",
    "from bigframes.ml.model_selection import train_test_split\n",
    "from bigframes.ml.ensemble import XGBClassifier, XGBRegressor\n",
    "from bigframes.ml.preprocessing import StandardScaler, OneHotEncoder\n",
    "\n",
    "\n",
    "#Set environment variables for your notebook\n",
    "os.environ['GOOGLE_APPLICATION_CREDENTIALS'] = 'key.json'\n",
    "project_id = \"rudderstacktestbq\"\n",
    "\n",
    "# Initialize the BigQuery client with your project ID\n",
    "client = bigquery.Client(project=project_id)\n",
    "\n",
    "# read a BigQuery table to a BigQuery DataFrame\n",
    "df_feature1 = bpd.read_gbq(\"rudderstacktestbq.PROFILES_INTEGRATION_TEST.Material_user_var_table_839ca5d3_27\",use_cache=False) \n",
    "df_label1 = bpd.read_gbq(\"rudderstacktestbq.PROFILES_INTEGRATION_TEST.Material_user_var_table_839ca5d3_28\",use_cache=False)\n",
    "\n",
    "df_feature2 = df_feature1.copy()\n",
    "df_label2 = df_label1.copy()\n",
    "\n",
    "# take a peek at the dataframe\n",
    "df_feature1.head(5)"
   ]
  },
  {
   "cell_type": "markdown",
   "metadata": {},
   "source": [
    "## 2. Getting Final Table"
   ]
  },
  {
   "cell_type": "code",
   "execution_count": 2,
   "metadata": {},
   "outputs": [],
   "source": [
    "# creating the target column\n",
    "def create_label(df_label,df_feature):\n",
    "    df_feature['target'] = df_feature['days_since_last_seen'].isin([1]).map({True:1,False:0})\n",
    "    return df_feature\n",
    "\n",
    "df_feature1 = create_label(df_label1,df_feature1)\n",
    "df_feature2 = create_label(df_label2,df_feature2)\n",
    "\n",
    "df = bpd.concat([df_feature1, df_feature2], ignore_index=True)"
   ]
  },
  {
   "cell_type": "code",
   "execution_count": 3,
   "metadata": {},
   "outputs": [
    {
     "data": {
      "text/html": [
       "Query job 46ba39fa-3326-4814-a018-fa00f61d366e is DONE. 1.6 MB processed. <a target=\"_blank\" href=\"https://console.cloud.google.com/bigquery?project=rudderstacktestbq&j=bq:US:46ba39fa-3326-4814-a018-fa00f61d366e&page=queryresults\">Open Job</a>"
      ],
      "text/plain": [
       "<IPython.core.display.HTML object>"
      ]
     },
     "metadata": {},
     "output_type": "display_data"
    },
    {
     "data": {
      "text/html": [
       "Query job 3bdb452c-b207-43bc-bcf1-ef63c3a7838f is DONE. 0 Bytes processed. <a target=\"_blank\" href=\"https://console.cloud.google.com/bigquery?project=rudderstacktestbq&j=bq:US:3bdb452c-b207-43bc-bcf1-ef63c3a7838f&page=queryresults\">Open Job</a>"
      ],
      "text/plain": [
       "<IPython.core.display.HTML object>"
      ]
     },
     "metadata": {},
     "output_type": "display_data"
    },
    {
     "data": {
      "text/html": [
       "Query job 261468a4-2c0b-47eb-a39e-d9b79a236f89 is DONE. 64 Bytes processed. <a target=\"_blank\" href=\"https://console.cloud.google.com/bigquery?project=rudderstacktestbq&j=bq:US:261468a4-2c0b-47eb-a39e-d9b79a236f89&page=queryresults\">Open Job</a>"
      ],
      "text/plain": [
       "<IPython.core.display.HTML object>"
      ]
     },
     "metadata": {},
     "output_type": "display_data"
    },
    {
     "data": {
      "text/plain": [
       "target\n",
       "0    40388\n",
       "1       84\n",
       "Name: count, dtype: Int64"
      ]
     },
     "execution_count": 3,
     "metadata": {},
     "output_type": "execute_result"
    }
   ],
   "source": [
    "df.target.value_counts()"
   ]
  },
  {
   "attachments": {},
   "cell_type": "markdown",
   "metadata": {},
   "source": [
    "## 3. Data cleaning / prep"
   ]
  },
  {
   "cell_type": "code",
   "execution_count": 4,
   "metadata": {},
   "outputs": [],
   "source": [
    "# drop columns we don't care about,rows with nulls to get our training data\n",
    "training_data = df.drop(columns=[\"user_main_id\",'max_timestamp_bw_tracks_pages','days_since_last_seen']).dropna()"
   ]
  },
  {
   "attachments": {},
   "cell_type": "markdown",
   "metadata": {},
   "source": [
    "## 4. Use `model_selection.train_test_split` to prepare training data"
   ]
  },
  {
   "cell_type": "code",
   "execution_count": 5,
   "metadata": {},
   "outputs": [
    {
     "data": {
      "text/html": [
       "Query job 6e17d66f-4806-48f4-8966-b3dd8311d333 is DONE. 1.6 MB processed. <a target=\"_blank\" href=\"https://console.cloud.google.com/bigquery?project=rudderstacktestbq&j=bq:US:6e17d66f-4806-48f4-8966-b3dd8311d333&page=queryresults\">Open Job</a>"
      ],
      "text/plain": [
       "<IPython.core.display.HTML object>"
      ]
     },
     "metadata": {},
     "output_type": "display_data"
    }
   ],
   "source": [
    "feature_columns = training_data.drop(columns=['target'])\n",
    "label_columns = training_data[['target']] \n",
    "\n",
    "X_train, X_test, y_train, y_test = train_test_split(feature_columns, label_columns, test_size=0.2)"
   ]
  },
  {
   "attachments": {},
   "cell_type": "markdown",
   "metadata": {},
   "source": [
    "## 5. Configure a XGBoost classification pipeline with preprocessing"
   ]
  },
  {
   "cell_type": "code",
   "execution_count": 6,
   "metadata": {},
   "outputs": [
    {
     "data": {
      "text/plain": [
       "Pipeline(steps=[('preproc',\n",
       "                 ColumnTransformer(transformers=[('scaler', StandardScaler(),\n",
       "                                                  ['gross_amt_spent_in_past_90_days',\n",
       "                                                   'n_orders_completed',\n",
       "                                                   'total_sessions_till_date'])])),\n",
       "                ('xgb',\n",
       "                 XGBClassifier(enable_global_explain=True, learning_rate=0.1,\n",
       "                               n_estimators=50))])"
      ]
     },
     "execution_count": 6,
     "metadata": {},
     "output_type": "execute_result"
    }
   ],
   "source": [
    "preprocessing = ColumnTransformer([\n",
    "  (\"scaler\", StandardScaler(), training_data.drop(columns=['target']).columns.tolist()),\n",
    "])\n",
    "  \n",
    "model = XGBClassifier(n_estimators=50, learning_rate = 0.1, enable_global_explain = True)\n",
    "\n",
    "pipeline = Pipeline([\n",
    "  ('preproc', preprocessing),\n",
    "  ('xgb', model)\n",
    "])\n",
    "\n",
    "pipeline"
   ]
  },
  {
   "attachments": {},
   "cell_type": "markdown",
   "metadata": {},
   "source": [
    "## 6. Fit the pipeline to the training data\n",
    "\n",
    "This will create a temporary BQML model in BigQuery"
   ]
  },
  {
   "cell_type": "code",
   "execution_count": 7,
   "metadata": {},
   "outputs": [
    {
     "data": {
      "text/html": [
       "Query job 3b86e75a-0a34-4e9e-a8f8-e8633abd2e2f is DONE. 1.6 MB processed. <a target=\"_blank\" href=\"https://console.cloud.google.com/bigquery?project=rudderstacktestbq&j=bq:US:3b86e75a-0a34-4e9e-a8f8-e8633abd2e2f&page=queryresults\">Open Job</a>"
      ],
      "text/plain": [
       "<IPython.core.display.HTML object>"
      ]
     },
     "metadata": {},
     "output_type": "display_data"
    },
    {
     "data": {
      "text/html": [
       "Query job 4329e77d-23ba-4c85-9b96-7ea86c24009e is DONE. 1.6 MB processed. <a target=\"_blank\" href=\"https://console.cloud.google.com/bigquery?project=rudderstacktestbq&j=bq:US:4329e77d-23ba-4c85-9b96-7ea86c24009e&page=queryresults\">Open Job</a>"
      ],
      "text/plain": [
       "<IPython.core.display.HTML object>"
      ]
     },
     "metadata": {},
     "output_type": "display_data"
    },
    {
     "data": {
      "text/html": [
       "Query job b09e9152-c27c-408f-b1df-b4ccdf76d642 is DONE. 13.3 GB processed. <a target=\"_blank\" href=\"https://console.cloud.google.com/bigquery?project=rudderstacktestbq&j=bq:US:b09e9152-c27c-408f-b1df-b4ccdf76d642&page=queryresults\">Open Job</a>"
      ],
      "text/plain": [
       "<IPython.core.display.HTML object>"
      ]
     },
     "metadata": {},
     "output_type": "display_data"
    },
    {
     "data": {
      "text/plain": [
       "Pipeline(steps=[('preproc',\n",
       "                 ColumnTransformer(transformers=[('scaler', StandardScaler(),\n",
       "                                                  ['gross_amt_spent_in_past_90_days',\n",
       "                                                   'n_orders_completed',\n",
       "                                                   'total_sessions_till_date'])])),\n",
       "                ('xgb',\n",
       "                 XGBClassifier(enable_global_explain=True, learning_rate=0.1,\n",
       "                               n_estimators=50))])"
      ]
     },
     "execution_count": 7,
     "metadata": {},
     "output_type": "execute_result"
    }
   ],
   "source": [
    "pipeline.fit(X_train, y_train)"
   ]
  },
  {
   "attachments": {},
   "cell_type": "markdown",
   "metadata": {},
   "source": [
    "## 7. Score the pipeline on the test data"
   ]
  },
  {
   "cell_type": "code",
   "execution_count": 9,
   "metadata": {},
   "outputs": [
    {
     "data": {
      "text/html": [
       "Query job 9fb694d4-f642-4188-953c-d22e3dcc86ef is DONE. 2.0 MB processed. <a target=\"_blank\" href=\"https://console.cloud.google.com/bigquery?project=rudderstacktestbq&j=bq:US:9fb694d4-f642-4188-953c-d22e3dcc86ef&page=queryresults\">Open Job</a>"
      ],
      "text/plain": [
       "<IPython.core.display.HTML object>"
      ]
     },
     "metadata": {},
     "output_type": "display_data"
    },
    {
     "data": {
      "text/html": [
       "Query job dec9b6bd-ee22-437c-884f-6b1fa487bf7f is DONE. 64.8 kB processed. <a target=\"_blank\" href=\"https://console.cloud.google.com/bigquery?project=rudderstacktestbq&j=bq:US:dec9b6bd-ee22-437c-884f-6b1fa487bf7f&page=queryresults\">Open Job</a>"
      ],
      "text/plain": [
       "<IPython.core.display.HTML object>"
      ]
     },
     "metadata": {},
     "output_type": "display_data"
    },
    {
     "data": {
      "text/html": [
       "Query job 51fd6bbd-4e3e-4e12-9205-c8942e0152dd is DONE. 1.7 MB processed. <a target=\"_blank\" href=\"https://console.cloud.google.com/bigquery?project=rudderstacktestbq&j=bq:US:51fd6bbd-4e3e-4e12-9205-c8942e0152dd&page=queryresults\">Open Job</a>"
      ],
      "text/plain": [
       "<IPython.core.display.HTML object>"
      ]
     },
     "metadata": {},
     "output_type": "display_data"
    },
    {
     "data": {
      "text/html": [
       "Query job a7782d63-face-4ced-be20-2e84a2c4ded1 is DONE. 1.7 MB processed. <a target=\"_blank\" href=\"https://console.cloud.google.com/bigquery?project=rudderstacktestbq&j=bq:US:a7782d63-face-4ced-be20-2e84a2c4ded1&page=queryresults\">Open Job</a>"
      ],
      "text/plain": [
       "<IPython.core.display.HTML object>"
      ]
     },
     "metadata": {},
     "output_type": "display_data"
    },
    {
     "name": "stderr",
     "output_type": "stream",
     "text": [
      "/Users/admin/Downloads/BigQuery/bigquery/lib/python3.10/site-packages/bigframes/ml/metrics/_metrics.py:292: FutureWarning: Setting an item of incompatible dtype is deprecated and will raise an error in a future version of pandas. Value '0.9977761304670126' has dtype incompatible with int64, please explicitly cast to a compatible dtype first.\n",
      "  precision_score.loc[i] = precision.loc[i]\n"
     ]
    },
    {
     "data": {
      "text/html": [
       "Query job 1add00f8-ea98-4bbf-b52c-61eb2583112f is DONE. 1.7 MB processed. <a target=\"_blank\" href=\"https://console.cloud.google.com/bigquery?project=rudderstacktestbq&j=bq:US:1add00f8-ea98-4bbf-b52c-61eb2583112f&page=queryresults\">Open Job</a>"
      ],
      "text/plain": [
       "<IPython.core.display.HTML object>"
      ]
     },
     "metadata": {},
     "output_type": "display_data"
    },
    {
     "data": {
      "text/html": [
       "Query job 64f39001-5953-4fcb-a884-0b8ca687b54c is DONE. 1.7 MB processed. <a target=\"_blank\" href=\"https://console.cloud.google.com/bigquery?project=rudderstacktestbq&j=bq:US:64f39001-5953-4fcb-a884-0b8ca687b54c&page=queryresults\">Open Job</a>"
      ],
      "text/plain": [
       "<IPython.core.display.HTML object>"
      ]
     },
     "metadata": {},
     "output_type": "display_data"
    },
    {
     "data": {
      "text/html": [
       "Query job 1750875c-5cd3-4eb1-bb76-c951e8cfaddd is DONE. 1.7 MB processed. <a target=\"_blank\" href=\"https://console.cloud.google.com/bigquery?project=rudderstacktestbq&j=bq:US:1750875c-5cd3-4eb1-bb76-c951e8cfaddd&page=queryresults\">Open Job</a>"
      ],
      "text/plain": [
       "<IPython.core.display.HTML object>"
      ]
     },
     "metadata": {},
     "output_type": "display_data"
    },
    {
     "data": {
      "text/html": [
       "Query job 8b1d22d9-efc8-4ce3-b32a-a838ccf2e9cd is DONE. 1.7 MB processed. <a target=\"_blank\" href=\"https://console.cloud.google.com/bigquery?project=rudderstacktestbq&j=bq:US:8b1d22d9-efc8-4ce3-b32a-a838ccf2e9cd&page=queryresults\">Open Job</a>"
      ],
      "text/plain": [
       "<IPython.core.display.HTML object>"
      ]
     },
     "metadata": {},
     "output_type": "display_data"
    },
    {
     "data": {
      "text/html": [
       "Query job 22b4ccea-2d4a-4f2f-aee8-5c87472f369d is DONE. 1.7 MB processed. <a target=\"_blank\" href=\"https://console.cloud.google.com/bigquery?project=rudderstacktestbq&j=bq:US:22b4ccea-2d4a-4f2f-aee8-5c87472f369d&page=queryresults\">Open Job</a>"
      ],
      "text/plain": [
       "<IPython.core.display.HTML object>"
      ]
     },
     "metadata": {},
     "output_type": "display_data"
    },
    {
     "data": {
      "text/html": [
       "Query job f54fca96-a93c-4cfe-a1ed-56def4b0cc11 is DONE. 1.7 MB processed. <a target=\"_blank\" href=\"https://console.cloud.google.com/bigquery?project=rudderstacktestbq&j=bq:US:f54fca96-a93c-4cfe-a1ed-56def4b0cc11&page=queryresults\">Open Job</a>"
      ],
      "text/plain": [
       "<IPython.core.display.HTML object>"
      ]
     },
     "metadata": {},
     "output_type": "display_data"
    },
    {
     "name": "stdout",
     "output_type": "stream",
     "text": [
      "precision :  0    0.997776\n",
      "1    0.000000\n",
      "dtype: float64\n",
      "recall :  0    1\n",
      "1    0\n",
      "dtype: int64\n",
      "f1 :  0    0.998887\n",
      "1    0.000000\n",
      "dtype: float64\n"
     ]
    },
    {
     "name": "stderr",
     "output_type": "stream",
     "text": [
      "/Users/admin/Downloads/BigQuery/bigquery/lib/python3.10/site-packages/bigframes/ml/metrics/_metrics.py:292: FutureWarning: Setting an item of incompatible dtype is deprecated and will raise an error in a future version of pandas. Value '0.9977761304670126' has dtype incompatible with int64, please explicitly cast to a compatible dtype first.\n",
      "  precision_score.loc[i] = precision.loc[i]\n",
      "/Users/admin/Downloads/BigQuery/bigquery/lib/python3.10/site-packages/bigframes/ml/metrics/_metrics.py:322: FutureWarning: Setting an item of incompatible dtype is deprecated and will raise an error in a future version of pandas. Value '0.998886827458256' has dtype incompatible with int64, please explicitly cast to a compatible dtype first.\n",
      "  f1_score[index] = (\n"
     ]
    }
   ],
   "source": [
    "y_pred = pipeline.predict(X_test)[\"predicted_target\"]\n",
    "\n",
    "precision = bmetrics.precision_score(y_test, y_pred,average=None)\n",
    "recall = bmetrics.recall_score(y_test, y_pred,average=None)\n",
    "f1 = bmetrics.f1_score(y_test, y_pred,average=None)\n",
    "\n",
    "print('precision : ',precision)\n",
    "print('recall : ',recall)\n",
    "print('f1 : ',f1)"
   ]
  },
  {
   "cell_type": "markdown",
   "metadata": {},
   "source": [
    "## 8. Plots"
   ]
  },
  {
   "cell_type": "code",
   "execution_count": 10,
   "metadata": {},
   "outputs": [
    {
     "data": {
      "text/html": [
       "Query job 964bc3b6-3199-4c34-bdcb-038b9a985c58 is DONE. 1.6 MB processed. <a target=\"_blank\" href=\"https://console.cloud.google.com/bigquery?project=rudderstacktestbq&j=bq:US:964bc3b6-3199-4c34-bdcb-038b9a985c58&page=queryresults\">Open Job</a>"
      ],
      "text/plain": [
       "<IPython.core.display.HTML object>"
      ]
     },
     "metadata": {},
     "output_type": "display_data"
    },
    {
     "data": {
      "text/html": [
       "Query job 82013205-6955-411d-8560-93dad8b5e728 is DONE. 1.7 MB processed. <a target=\"_blank\" href=\"https://console.cloud.google.com/bigquery?project=rudderstacktestbq&j=bq:US:82013205-6955-411d-8560-93dad8b5e728&page=queryresults\">Open Job</a>"
      ],
      "text/plain": [
       "<IPython.core.display.HTML object>"
      ]
     },
     "metadata": {},
     "output_type": "display_data"
    },
    {
     "data": {
      "text/html": [
       "Query job 56ca16ca-2791-4fad-90d9-148afd245510 is DONE. 1.7 MB processed. <a target=\"_blank\" href=\"https://console.cloud.google.com/bigquery?project=rudderstacktestbq&j=bq:US:56ca16ca-2791-4fad-90d9-148afd245510&page=queryresults\">Open Job</a>"
      ],
      "text/plain": [
       "<IPython.core.display.HTML object>"
      ]
     },
     "metadata": {},
     "output_type": "display_data"
    },
    {
     "data": {
      "text/html": [
       "Query job ddcf7790-5f66-48d2-990d-1de9e6ca6169 is DONE. 1.7 MB processed. <a target=\"_blank\" href=\"https://console.cloud.google.com/bigquery?project=rudderstacktestbq&j=bq:US:ddcf7790-5f66-48d2-990d-1de9e6ca6169&page=queryresults\">Open Job</a>"
      ],
      "text/plain": [
       "<IPython.core.display.HTML object>"
      ]
     },
     "metadata": {},
     "output_type": "display_data"
    },
    {
     "data": {
      "text/html": [
       "Query job 3e4b5f06-a742-47f4-b7cd-9fbad243cd8d is DONE. 1.7 MB processed. <a target=\"_blank\" href=\"https://console.cloud.google.com/bigquery?project=rudderstacktestbq&j=bq:US:3e4b5f06-a742-47f4-b7cd-9fbad243cd8d&page=queryresults\">Open Job</a>"
      ],
      "text/plain": [
       "<IPython.core.display.HTML object>"
      ]
     },
     "metadata": {},
     "output_type": "display_data"
    },
    {
     "data": {
      "text/plain": [
       "<Figure size 800x600 with 0 Axes>"
      ]
     },
     "metadata": {},
     "output_type": "display_data"
    }
   ],
   "source": [
    "def plot_roc_auc_curve(y_pred, y_true, roc_auc_file) -> None:\n",
    "    fpr, tpr, _ = bmetrics.roc_curve(y_true, y_pred,drop_intermediate=False)\n",
    "    roc_auc = bmetrics.auc(fpr, tpr)\n",
    "    sns.set(style=\"ticks\", context=\"notebook\")\n",
    "    plt.figure(figsize=(8, 6))\n",
    "    plt.plot(fpr, tpr, color=\"b\", label=f\"ROC AUC = {roc_auc:.2f}\", linewidth=2)\n",
    "    plt.plot([0, 1], [0, 1], color=\"gray\", linestyle=\"--\", linewidth=2)\n",
    "    plt.title(\"ROC Curve (Test Data)\")\n",
    "    plt.xlabel(\"False Positive Rate\")\n",
    "    plt.ylabel(\"True Positive Rate\")\n",
    "    plt.legend(loc=\"lower right\")\n",
    "    sns.despine()\n",
    "    plt.grid(True)\n",
    "    plt.savefig(roc_auc_file)\n",
    "    plt.clf()\n",
    "\n",
    "plot_roc_auc_curve(y_pred,y_test,'roc_auc_plot.png')"
   ]
  },
  {
   "cell_type": "code",
   "execution_count": 11,
   "metadata": {},
   "outputs": [
    {
     "data": {
      "text/html": [
       "Query job 29716eee-9f59-4f41-8a1d-c0aedee2a6fa is DONE. 1.7 MB processed. <a target=\"_blank\" href=\"https://console.cloud.google.com/bigquery?project=rudderstacktestbq&j=bq:US:29716eee-9f59-4f41-8a1d-c0aedee2a6fa&page=queryresults\">Open Job</a>"
      ],
      "text/plain": [
       "<IPython.core.display.HTML object>"
      ]
     },
     "metadata": {},
     "output_type": "display_data"
    },
    {
     "data": {
      "text/html": [
       "Query job 0ac8535e-0f35-484a-85d8-138d3227f1f5 is DONE. 1.7 MB processed. <a target=\"_blank\" href=\"https://console.cloud.google.com/bigquery?project=rudderstacktestbq&j=bq:US:0ac8535e-0f35-484a-85d8-138d3227f1f5&page=queryresults\">Open Job</a>"
      ],
      "text/plain": [
       "<IPython.core.display.HTML object>"
      ]
     },
     "metadata": {},
     "output_type": "display_data"
    },
    {
     "name": "stderr",
     "output_type": "stream",
     "text": [
      "/Users/admin/Downloads/BigQuery/bigquery/lib/python3.10/site-packages/bigframes/ml/metrics/_metrics.py:292: FutureWarning: Setting an item of incompatible dtype is deprecated and will raise an error in a future version of pandas. Value '0.9977761304670126' has dtype incompatible with int64, please explicitly cast to a compatible dtype first.\n",
      "  precision_score.loc[i] = precision.loc[i]\n"
     ]
    },
    {
     "data": {
      "text/html": [
       "Query job a7795c32-ae8a-4b52-bf28-509cc7ae2e8c is DONE. 1.7 MB processed. <a target=\"_blank\" href=\"https://console.cloud.google.com/bigquery?project=rudderstacktestbq&j=bq:US:a7795c32-ae8a-4b52-bf28-509cc7ae2e8c&page=queryresults\">Open Job</a>"
      ],
      "text/plain": [
       "<IPython.core.display.HTML object>"
      ]
     },
     "metadata": {},
     "output_type": "display_data"
    },
    {
     "data": {
      "text/html": [
       "Query job e6676f60-7968-4baa-b51f-9968d9b65869 is DONE. 1.7 MB processed. <a target=\"_blank\" href=\"https://console.cloud.google.com/bigquery?project=rudderstacktestbq&j=bq:US:e6676f60-7968-4baa-b51f-9968d9b65869&page=queryresults\">Open Job</a>"
      ],
      "text/plain": [
       "<IPython.core.display.HTML object>"
      ]
     },
     "metadata": {},
     "output_type": "display_data"
    },
    {
     "data": {
      "text/html": [
       "Query job 9f137e0e-4e9a-4bdb-a7ba-3056c89f7328 is DONE. 0 Bytes processed. <a target=\"_blank\" href=\"https://console.cloud.google.com/bigquery?project=rudderstacktestbq&j=bq:US:9f137e0e-4e9a-4bdb-a7ba-3056c89f7328&page=queryresults\">Open Job</a>"
      ],
      "text/plain": [
       "<IPython.core.display.HTML object>"
      ]
     },
     "metadata": {},
     "output_type": "display_data"
    },
    {
     "data": {
      "text/html": [
       "Query job a50d1689-5648-4df6-8745-fd99b923ad07 is DONE. 0 Bytes processed. <a target=\"_blank\" href=\"https://console.cloud.google.com/bigquery?project=rudderstacktestbq&j=bq:US:a50d1689-5648-4df6-8745-fd99b923ad07&page=queryresults\">Open Job</a>"
      ],
      "text/plain": [
       "<IPython.core.display.HTML object>"
      ]
     },
     "metadata": {},
     "output_type": "display_data"
    },
    {
     "data": {
      "text/html": [
       "Query job fc0a7764-491b-4ee7-b33c-60c50188c2be is DONE. 0 Bytes processed. <a target=\"_blank\" href=\"https://console.cloud.google.com/bigquery?project=rudderstacktestbq&j=bq:US:fc0a7764-491b-4ee7-b33c-60c50188c2be&page=queryresults\">Open Job</a>"
      ],
      "text/plain": [
       "<IPython.core.display.HTML object>"
      ]
     },
     "metadata": {},
     "output_type": "display_data"
    },
    {
     "data": {
      "text/html": [
       "Query job 36d63039-08b7-49b4-8bfe-722c561646a9 is DONE. 0 Bytes processed. <a target=\"_blank\" href=\"https://console.cloud.google.com/bigquery?project=rudderstacktestbq&j=bq:US:36d63039-08b7-49b4-8bfe-722c561646a9&page=queryresults\">Open Job</a>"
      ],
      "text/plain": [
       "<IPython.core.display.HTML object>"
      ]
     },
     "metadata": {},
     "output_type": "display_data"
    },
    {
     "data": {
      "text/html": [
       "Query job 8bfaab90-849b-48ed-9adb-2e86545addbb is DONE. 0 Bytes processed. <a target=\"_blank\" href=\"https://console.cloud.google.com/bigquery?project=rudderstacktestbq&j=bq:US:8bfaab90-849b-48ed-9adb-2e86545addbb&page=queryresults\">Open Job</a>"
      ],
      "text/plain": [
       "<IPython.core.display.HTML object>"
      ]
     },
     "metadata": {},
     "output_type": "display_data"
    },
    {
     "data": {
      "text/html": [
       "Query job e8f1973a-8a9c-4572-97b4-3f04f08b7959 is DONE. 0 Bytes processed. <a target=\"_blank\" href=\"https://console.cloud.google.com/bigquery?project=rudderstacktestbq&j=bq:US:e8f1973a-8a9c-4572-97b4-3f04f08b7959&page=queryresults\">Open Job</a>"
      ],
      "text/plain": [
       "<IPython.core.display.HTML object>"
      ]
     },
     "metadata": {},
     "output_type": "display_data"
    },
    {
     "data": {
      "text/plain": [
       "<Figure size 800x600 with 0 Axes>"
      ]
     },
     "metadata": {},
     "output_type": "display_data"
    }
   ],
   "source": [
    "def plot_pr_auc_curve(y_pred, y_true, pr_auc_file) -> None:\n",
    "    # precision, recall, _ = precision_recall_curve(y_true, y_pred)\n",
    "    precision = bpd.Series(bmetrics.precision_score(y_true, y_pred,average=None))\n",
    "    recall = bpd.Series(bmetrics.recall_score(y_true, y_pred,average=None))\n",
    "    pr_auc = bmetrics.auc(recall, precision)\n",
    "    sns.set(style=\"ticks\", context=\"notebook\")\n",
    "    plt.figure(figsize=(8, 6))\n",
    "    plt.plot(recall, precision, color=\"b\", label=f\"PR AUC = {pr_auc:.2f}\", linewidth=2)\n",
    "    plt.ylim([int(min(precision) * 20) / 20, 1.0])\n",
    "    plt.xlim([int(min(recall) * 20) / 20, 1.0])\n",
    "    plt.title(\"Precision-Recall Curve (Test data)\")\n",
    "    plt.xlabel(\"Recall\")\n",
    "    plt.ylabel(\"Precision\")\n",
    "    plt.legend(loc=\"lower left\")\n",
    "    sns.despine()\n",
    "    plt.grid(True)\n",
    "    plt.savefig(pr_auc_file)\n",
    "    plt.clf()\n",
    "\n",
    "plot_pr_auc_curve(y_pred,y_test,'pr_auc_plot.png')"
   ]
  },
  {
   "cell_type": "code",
   "execution_count": 12,
   "metadata": {},
   "outputs": [
    {
     "data": {
      "text/html": [
       "Query job 38da88c6-afb0-49f2-a4a0-b145e53376ff is DONE. 1.6 MB processed. <a target=\"_blank\" href=\"https://console.cloud.google.com/bigquery?project=rudderstacktestbq&j=bq:US:38da88c6-afb0-49f2-a4a0-b145e53376ff&page=queryresults\">Open Job</a>"
      ],
      "text/plain": [
       "<IPython.core.display.HTML object>"
      ]
     },
     "metadata": {},
     "output_type": "display_data"
    },
    {
     "name": "stdout",
     "output_type": "stream",
     "text": [
      "<class 'bigframes.series.Series'>\n"
     ]
    },
    {
     "data": {
      "text/html": [
       "Query job 7fea71fa-76fc-482b-8d5c-0b7fdb82a3c5 is DONE. 1.7 MB processed. <a target=\"_blank\" href=\"https://console.cloud.google.com/bigquery?project=rudderstacktestbq&j=bq:US:7fea71fa-76fc-482b-8d5c-0b7fdb82a3c5&page=queryresults\">Open Job</a>"
      ],
      "text/plain": [
       "<IPython.core.display.HTML object>"
      ]
     },
     "metadata": {},
     "output_type": "display_data"
    },
    {
     "data": {
      "text/html": [
       "Query job ffd842d5-db86-4da2-98c5-661be634a1b8 is DONE. 1.6 MB processed. <a target=\"_blank\" href=\"https://console.cloud.google.com/bigquery?project=rudderstacktestbq&j=bq:US:ffd842d5-db86-4da2-98c5-661be634a1b8&page=queryresults\">Open Job</a>"
      ],
      "text/plain": [
       "<IPython.core.display.HTML object>"
      ]
     },
     "metadata": {},
     "output_type": "display_data"
    },
    {
     "data": {
      "text/html": [
       "Query job 7b2f7202-b3a0-4654-88d2-5da038184c08 is DONE. 1.7 MB processed. <a target=\"_blank\" href=\"https://console.cloud.google.com/bigquery?project=rudderstacktestbq&j=bq:US:7b2f7202-b3a0-4654-88d2-5da038184c08&page=queryresults\">Open Job</a>"
      ],
      "text/plain": [
       "<IPython.core.display.HTML object>"
      ]
     },
     "metadata": {},
     "output_type": "display_data"
    },
    {
     "data": {
      "text/html": [
       "Query job 02c28879-9b6f-4af1-b763-64a1cd997c5b is DONE. 1.6 MB processed. <a target=\"_blank\" href=\"https://console.cloud.google.com/bigquery?project=rudderstacktestbq&j=bq:US:02c28879-9b6f-4af1-b763-64a1cd997c5b&page=queryresults\">Open Job</a>"
      ],
      "text/plain": [
       "<IPython.core.display.HTML object>"
      ]
     },
     "metadata": {},
     "output_type": "display_data"
    },
    {
     "data": {
      "text/plain": [
       "<Figure size 800x600 with 0 Axes>"
      ]
     },
     "metadata": {},
     "output_type": "display_data"
    }
   ],
   "source": [
    "def plot_lift_chart(y_pred, y_true, lift_chart_file) -> None:\n",
    "    \"\"\"Generates a lift chart for a binary classification model.\"\"\"\n",
    "\n",
    "    data = bpd.concat([y_true, y_pred], axis=1)\n",
    "    data  = data.rename(columns={'target': 'label', 'predicted_target': 'pred'})\n",
    "    data = data.sort_values(by=\"pred\", ascending=False)\n",
    "    data[\"cum_tp\"] = data[\"label\"].cumsum()\n",
    "\n",
    "\n",
    "    # data = pd.DataFrame()\n",
    "    # data[\"label\"] = y_true\n",
    "    # data[\"pred\"] = y_pred\n",
    "\n",
    "    # sorted_indices = np.argsort(data[\"pred\"].values, kind=\"heapsort\")[::-1]\n",
    "    cumulative_actual = data[\"cum_tp\"] #np.cumsum(data[\"label\"][sorted_indices].values)\n",
    "    cumulative_percentage = np.linspace(0, 1, len(cumulative_actual) + 1)\n",
    "\n",
    "    sns.set(style=\"ticks\", context=\"notebook\")\n",
    "    plt.figure(figsize=(8, 6))\n",
    "    print(type(cumulative_actual))\n",
    "    sns.lineplot(\n",
    "        x=cumulative_percentage * 100,\n",
    "        y=np.array([0] + list(100 * cumulative_actual / cumulative_actual.iloc[-1])),\n",
    "        linewidth=2,\n",
    "        color=\"b\",\n",
    "        label=\"Model Lift curve\",\n",
    "    )\n",
    "    sns.despine()\n",
    "    plt.plot(\n",
    "        [0, 100 * data[\"label\"].mean()],\n",
    "        [0, 100],\n",
    "        color=\"red\",\n",
    "        linestyle=\"--\",\n",
    "        label=\"Best Case\",\n",
    "        linewidth=1.5,\n",
    "    )\n",
    "    plt.plot(\n",
    "        [0, 100],\n",
    "        [0, 100],\n",
    "        color=\"black\",\n",
    "        linestyle=\"--\",\n",
    "        label=\"Baseline\",\n",
    "        linewidth=1.5,\n",
    "    )\n",
    "\n",
    "    plt.title(\"Cumulative Gain Curve\")\n",
    "    plt.xlabel(\"Percentage of Predicted Target Users\")\n",
    "    plt.ylabel(\"Percent of Actual Target Users\")\n",
    "    plt.ylim([0, 100])\n",
    "    plt.xlim([0, 100])\n",
    "    plt.legend()\n",
    "    plt.grid(True)\n",
    "    plt.savefig(lift_chart_file)\n",
    "    plt.clf()\n",
    "\n",
    "plot_lift_chart(y_pred,y_test,'lift_chart_plot.png')"
   ]
  },
  {
   "attachments": {},
   "cell_type": "markdown",
   "metadata": {},
   "source": [
    "## 9. Inference the model on new data"
   ]
  },
  {
   "cell_type": "code",
   "execution_count": 13,
   "metadata": {},
   "outputs": [],
   "source": [
    "import pandas\n",
    "\n",
    "new_data = bpd.read_pandas(\n",
    "        pandas.DataFrame(\n",
    "            {\n",
    "                \"gross_amt_spent_in_past_90_days\": [0,5,100],\n",
    "                \"total_sessions_till_date\": [1,2,3],\n",
    "                \"n_orders_completed\": [0,5,2],\n",
    "\n",
    "            }\n",
    "        )\n",
    "    )"
   ]
  },
  {
   "cell_type": "code",
   "execution_count": 14,
   "metadata": {},
   "outputs": [
    {
     "data": {
      "text/html": [
       "Query job adcf83a6-8eae-425e-8c45-15cfeec11770 is DONE. 426.9 kB processed. <a target=\"_blank\" href=\"https://console.cloud.google.com/bigquery?project=rudderstacktestbq&j=bq:US:adcf83a6-8eae-425e-8c45-15cfeec11770&page=queryresults\">Open Job</a>"
      ],
      "text/plain": [
       "<IPython.core.display.HTML object>"
      ]
     },
     "metadata": {},
     "output_type": "display_data"
    },
    {
     "data": {
      "text/html": [
       "Query job 389c3531-ab6d-404b-baea-fd956290da1c is DONE. 24 Bytes processed. <a target=\"_blank\" href=\"https://console.cloud.google.com/bigquery?project=rudderstacktestbq&j=bq:US:389c3531-ab6d-404b-baea-fd956290da1c&page=queryresults\">Open Job</a>"
      ],
      "text/plain": [
       "<IPython.core.display.HTML object>"
      ]
     },
     "metadata": {},
     "output_type": "display_data"
    },
    {
     "data": {
      "text/html": [
       "Query job d15a492e-4696-4032-a798-bf36017425f4 is DONE. 0 Bytes processed. <a target=\"_blank\" href=\"https://console.cloud.google.com/bigquery?project=rudderstacktestbq&j=bq:US:d15a492e-4696-4032-a798-bf36017425f4&page=queryresults\">Open Job</a>"
      ],
      "text/plain": [
       "<IPython.core.display.HTML object>"
      ]
     },
     "metadata": {},
     "output_type": "display_data"
    },
    {
     "data": {
      "text/html": [
       "Query job f1cf4c0e-3c66-4e37-88bb-0a11d4d60ebf is DONE. 216 Bytes processed. <a target=\"_blank\" href=\"https://console.cloud.google.com/bigquery?project=rudderstacktestbq&j=bq:US:f1cf4c0e-3c66-4e37-88bb-0a11d4d60ebf&page=queryresults\">Open Job</a>"
      ],
      "text/plain": [
       "<IPython.core.display.HTML object>"
      ]
     },
     "metadata": {},
     "output_type": "display_data"
    },
    {
     "data": {
      "text/html": [
       "<div>\n",
       "<style scoped>\n",
       "    .dataframe tbody tr th:only-of-type {\n",
       "        vertical-align: middle;\n",
       "    }\n",
       "\n",
       "    .dataframe tbody tr th {\n",
       "        vertical-align: top;\n",
       "    }\n",
       "\n",
       "    .dataframe thead th {\n",
       "        text-align: right;\n",
       "    }\n",
       "</style>\n",
       "<table border=\"1\" class=\"dataframe\">\n",
       "  <thead>\n",
       "    <tr style=\"text-align: right;\">\n",
       "      <th></th>\n",
       "      <th>predicted_target</th>\n",
       "      <th>predicted_target_probs</th>\n",
       "      <th>gross_amt_spent_in_past_90_days</th>\n",
       "      <th>total_sessions_till_date</th>\n",
       "      <th>n_orders_completed</th>\n",
       "    </tr>\n",
       "  </thead>\n",
       "  <tbody>\n",
       "    <tr>\n",
       "      <th>0</th>\n",
       "      <td>0</td>\n",
       "      <td>[{'label': 1, 'prob': 0.06780016422271729}\n",
       " {'...</td>\n",
       "      <td>0</td>\n",
       "      <td>1</td>\n",
       "      <td>0</td>\n",
       "    </tr>\n",
       "    <tr>\n",
       "      <th>1</th>\n",
       "      <td>0</td>\n",
       "      <td>[{'label': 1, 'prob': 0.06780016422271729}\n",
       " {'...</td>\n",
       "      <td>5</td>\n",
       "      <td>2</td>\n",
       "      <td>5</td>\n",
       "    </tr>\n",
       "    <tr>\n",
       "      <th>2</th>\n",
       "      <td>0</td>\n",
       "      <td>[{'label': 1, 'prob': 0.06780016422271729}\n",
       " {'...</td>\n",
       "      <td>100</td>\n",
       "      <td>3</td>\n",
       "      <td>2</td>\n",
       "    </tr>\n",
       "  </tbody>\n",
       "</table>\n",
       "<p>3 rows × 5 columns</p>\n",
       "</div>[3 rows x 5 columns in total]"
      ],
      "text/plain": [
       "   predicted_target                             predicted_target_probs  \\\n",
       "0                 0  [{'label': 1, 'prob': 0.06780016422271729}\n",
       " {'...   \n",
       "1                 0  [{'label': 1, 'prob': 0.06780016422271729}\n",
       " {'...   \n",
       "2                 0  [{'label': 1, 'prob': 0.06780016422271729}\n",
       " {'...   \n",
       "\n",
       "   gross_amt_spent_in_past_90_days  total_sessions_till_date  \\\n",
       "0                                0                         1   \n",
       "1                                5                         2   \n",
       "2                              100                         3   \n",
       "\n",
       "   n_orders_completed  \n",
       "0                   0  \n",
       "1                   5  \n",
       "2                   2  \n",
       "\n",
       "[3 rows x 5 columns]"
      ]
     },
     "execution_count": 14,
     "metadata": {},
     "output_type": "execute_result"
    }
   ],
   "source": [
    "pipeline.predict(new_data)"
   ]
  },
  {
   "attachments": {},
   "cell_type": "markdown",
   "metadata": {},
   "source": [
    "## 10. Save in BigQuery"
   ]
  },
  {
   "cell_type": "code",
   "execution_count": 15,
   "metadata": {},
   "outputs": [
    {
     "data": {
      "text/html": [
       "Copy job 1b4ae66b-ad9c-4224-9a7e-00ac78f05abc is DONE. <a target=\"_blank\" href=\"https://console.cloud.google.com/bigquery?project=rudderstacktestbq&j=bq:US:1b4ae66b-ad9c-4224-9a7e-00ac78f05abc&page=queryresults\">Open Job</a>"
      ],
      "text/plain": [
       "<IPython.core.display.HTML object>"
      ]
     },
     "metadata": {},
     "output_type": "display_data"
    },
    {
     "data": {
      "text/plain": [
       "Pipeline(steps=[('transform', StandardScaler()),\n",
       "                ('estimator',\n",
       "                 XGBClassifier(booster='GBTREE', learning_rate=0.1,\n",
       "                               n_estimators=50, tree_method='AUTO'))])"
      ]
     },
     "execution_count": 15,
     "metadata": {},
     "output_type": "execute_result"
    }
   ],
   "source": [
    "pipeline.to_gbq(\"rudderstacktestbq.PROFILES_INTEGRATION_TEST.bigframes_xgb_test\", replace=True)"
   ]
  },
  {
   "cell_type": "markdown",
   "metadata": {},
   "source": [
    "## 11. Feature Importance using Bigquey ML"
   ]
  },
  {
   "cell_type": "code",
   "execution_count": 3,
   "metadata": {},
   "outputs": [
    {
     "data": {
      "text/html": [
       "Query job 7365bb55-16e5-4769-bcb0-c086c3b702d7 is DONE. 0 Bytes processed. <a target=\"_blank\" href=\"https://console.cloud.google.com/bigquery?project=rudderstacktestbq&j=bq:US:7365bb55-16e5-4769-bcb0-c086c3b702d7&page=queryresults\">Open Job</a>"
      ],
      "text/plain": [
       "<IPython.core.display.HTML object>"
      ]
     },
     "metadata": {},
     "output_type": "display_data"
    },
    {
     "data": {
      "text/html": [
       "Query job b3ab8fe9-151b-41b5-bc6c-7be19b6e52db is DONE. 199 Bytes processed. <a target=\"_blank\" href=\"https://console.cloud.google.com/bigquery?project=rudderstacktestbq&j=bq:US:b3ab8fe9-151b-41b5-bc6c-7be19b6e52db&page=queryresults\">Open Job</a>"
      ],
      "text/plain": [
       "<IPython.core.display.HTML object>"
      ]
     },
     "metadata": {},
     "output_type": "display_data"
    },
    {
     "data": {
      "text/html": [
       "Query job b16bed74-ead1-4a9d-adc6-28094dac5e02 is DONE. 0 Bytes processed. <a target=\"_blank\" href=\"https://console.cloud.google.com/bigquery?project=rudderstacktestbq&j=bq:US:b16bed74-ead1-4a9d-adc6-28094dac5e02&page=queryresults\">Open Job</a>"
      ],
      "text/plain": [
       "<IPython.core.display.HTML object>"
      ]
     },
     "metadata": {},
     "output_type": "display_data"
    },
    {
     "data": {
      "text/html": [
       "Query job 2df1c9b5-abb3-4449-ae16-30530a34962c is DONE. 247 Bytes processed. <a target=\"_blank\" href=\"https://console.cloud.google.com/bigquery?project=rudderstacktestbq&j=bq:US:2df1c9b5-abb3-4449-ae16-30530a34962c&page=queryresults\">Open Job</a>"
      ],
      "text/plain": [
       "<IPython.core.display.HTML object>"
      ]
     },
     "metadata": {},
     "output_type": "display_data"
    },
    {
     "data": {
      "text/html": [
       "<div>\n",
       "<style scoped>\n",
       "    .dataframe tbody tr th:only-of-type {\n",
       "        vertical-align: middle;\n",
       "    }\n",
       "\n",
       "    .dataframe tbody tr th {\n",
       "        vertical-align: top;\n",
       "    }\n",
       "\n",
       "    .dataframe thead th {\n",
       "        text-align: right;\n",
       "    }\n",
       "</style>\n",
       "<table border=\"1\" class=\"dataframe\">\n",
       "  <thead>\n",
       "    <tr style=\"text-align: right;\">\n",
       "      <th></th>\n",
       "      <th>feature</th>\n",
       "      <th>importance_weight</th>\n",
       "      <th>importance_gain</th>\n",
       "      <th>importance_cover</th>\n",
       "    </tr>\n",
       "  </thead>\n",
       "  <tbody>\n",
       "    <tr>\n",
       "      <th>0</th>\n",
       "      <td>standard_scaled_n_orders_completed</td>\n",
       "      <td>0</td>\n",
       "      <td>0.0</td>\n",
       "      <td>0.0</td>\n",
       "    </tr>\n",
       "    <tr>\n",
       "      <th>1</th>\n",
       "      <td>standard_scaled_gross_amt_spent_in_past_90_days</td>\n",
       "      <td>0</td>\n",
       "      <td>0.0</td>\n",
       "      <td>0.0</td>\n",
       "    </tr>\n",
       "    <tr>\n",
       "      <th>2</th>\n",
       "      <td>standard_scaled_total_sessions_till_date</td>\n",
       "      <td>800</td>\n",
       "      <td>0.142641</td>\n",
       "      <td>6169.472687</td>\n",
       "    </tr>\n",
       "  </tbody>\n",
       "</table>\n",
       "<p>3 rows × 4 columns</p>\n",
       "</div>[3 rows x 4 columns in total]"
      ],
      "text/plain": [
       "                                           feature  importance_weight  \\\n",
       "0               standard_scaled_n_orders_completed                  0   \n",
       "1  standard_scaled_gross_amt_spent_in_past_90_days                  0   \n",
       "2         standard_scaled_total_sessions_till_date                800   \n",
       "\n",
       "   importance_gain  importance_cover  \n",
       "0              0.0               0.0  \n",
       "1              0.0               0.0  \n",
       "2         0.142641       6169.472687  \n",
       "\n",
       "[3 rows x 4 columns]"
      ]
     },
     "execution_count": 3,
     "metadata": {},
     "output_type": "execute_result"
    }
   ],
   "source": [
    "bpd.read_gbq_query('''SELECT\n",
    "  *\n",
    "FROM\n",
    "  ML.FEATURE_IMPORTANCE(MODEL rudderstacktestbq.PROFILES_INTEGRATION_TEST.bigframes_xgb_test)''')"
   ]
  }
 ],
 "metadata": {
  "kernelspec": {
   "display_name": "venv",
   "language": "python",
   "name": "python3"
  },
  "language_info": {
   "codemirror_mode": {
    "name": "ipython",
    "version": 3
   },
   "file_extension": ".py",
   "mimetype": "text/x-python",
   "name": "python",
   "nbconvert_exporter": "python",
   "pygments_lexer": "ipython3",
   "version": "3.10.11"
  },
  "orig_nbformat": 4,
  "vscode": {
   "interpreter": {
    "hash": "a850322d07d9bdc9ec5f301d307e048bcab2390ae395e1cbce9335f4e081e5e2"
   }
  }
 },
 "nbformat": 4,
 "nbformat_minor": 2
}
