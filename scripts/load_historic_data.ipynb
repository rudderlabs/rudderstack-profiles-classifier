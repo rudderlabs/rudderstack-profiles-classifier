{
 "cells": [
  {
   "cell_type": "markdown",
   "metadata": {},
   "source": [
    "#### Explanation of materialising and loading the historic C360 data\n",
    "\n",
    "Run following command in terminal to materialise any required timestamp:\n",
    "\n",
    "`> pb run --end_time <required_time_in_unix_timestamp>`\n",
    "\n",
    "Steps to fetch that past materialised data:\n",
    "1. Connect to warehouse using ProfilesConnector. The config can be accessed from the siteconfig file without changing any format.\n",
    "2. Load the material registry table, and filter only the successful runs.\n",
    "3. From material registry table, apply following filters to get the model_hash and seq_no of the right materialisation\n",
    "    - `model_type` = 'entity_traits_360'\n",
    "    - `end_ts` = '<unix time from above, after converting to timestamp - see below>'\n",
    "4. There may be multiple materialisations of same end ts. In such cases, it returns the most recently created materialisation details - seq_no and the model hash are the attributes that define a materialisation\n",
    "5. For each materialisation, there are multiple views providing the same C360 view with different identifiers as the primary key (ex: email, user_main_id, anonymous_id etc). By defining the id_type to whatever identifier you choose, we then fetch the appropriate view from warehouse using the model hash and seq_no\n",
    "\n"
   ]
  },
  {
   "cell_type": "code",
   "execution_count": 12,
   "metadata": {},
   "outputs": [],
   "source": [
    "# Params for fetching the past data - \n",
    "# 1. past_materialisation_timestamp in unix timestamp (the one used in pb run command)\n",
    "# 2. id type of the C360 view \n",
    "# 3. entity name of the profiles project - defined in pb_project.yaml\n",
    "end_time = 1708905600\n",
    "id_type = 'anonymous_id'\n",
    "entity_name = 'user'"
   ]
  },
  {
   "cell_type": "code",
   "execution_count": 2,
   "metadata": {},
   "outputs": [],
   "source": [
    "from profiles_rudderstack.wh import ProfilesConnector\n",
    "import yaml\n",
    "import pandas as pd\n",
    "import os\n",
    "import numpy as np\n",
    "import datetime"
   ]
  },
  {
   "cell_type": "code",
   "execution_count": 3,
   "metadata": {},
   "outputs": [],
   "source": [
    "homedir = os.path.expanduser(\"~\") \n",
    "with open(os.path.join(homedir, \".pb/siteconfig.yaml\"), \"r\") as f:\n",
    "    creds = yaml.safe_load(f)[\"connections\"][\"default\"][\"outputs\"][\"dev\"]"
   ]
  },
  {
   "cell_type": "code",
   "execution_count": 4,
   "metadata": {},
   "outputs": [
    {
     "name": "stdout",
     "output_type": "stream",
     "text": [
      "account: <account>\n",
      "dbname: <dbname>\n",
      "password: <password>\n",
      "role: <role>\n",
      "schema: <schema>\n",
      "type: <redshift|bigquery|snowflake etc>\n",
      "user: <user>\n",
      "warehouse: <warehouse>\n"
     ]
    }
   ],
   "source": [
    "for k, v in creds.items():\n",
    "    print(f\"{k}: <{k if k != 'type' else 'redshift|bigquery|snowflake etc'}>\")"
   ]
  },
  {
   "cell_type": "code",
   "execution_count": 5,
   "metadata": {},
   "outputs": [],
   "source": [
    "connector = ProfilesConnector(config=creds)"
   ]
  },
  {
   "cell_type": "code",
   "execution_count": 6,
   "metadata": {},
   "outputs": [],
   "source": [
    "material_registry = connector.run_query(\"select * from material_registry_4\")\n",
    "def safe_parse_json(entry):\n",
    "    try:\n",
    "        if isinstance(\n",
    "            entry, str\n",
    "        ): \n",
    "            entry_dict = eval(entry)\n",
    "        elif isinstance(\n",
    "            entry, dict\n",
    "        ):\n",
    "            entry_dict = entry\n",
    "\n",
    "        return entry_dict.get(\"complete\", {}).get(\"status\")\n",
    "    except:\n",
    "        return None\n",
    "\n",
    "material_registry[\"status\"] = material_registry[\"metadata\"].apply(\n",
    "    safe_parse_json\n",
    ")\n",
    "material_registry = material_registry.query(\"status==2\")"
   ]
  },
  {
   "cell_type": "code",
   "execution_count": 7,
   "metadata": {},
   "outputs": [],
   "source": [
    "\n",
    "dt = datetime.datetime.fromtimestamp(end_time, tz=datetime.timezone.utc).replace(tzinfo=None)\n",
    "dt = np.datetime64(dt)\n",
    "material_registry[\"end_ts_np\"] = material_registry[\"end_ts\"].apply(lambda x: x.to_numpy())"
   ]
  },
  {
   "cell_type": "code",
   "execution_count": 8,
   "metadata": {},
   "outputs": [],
   "source": [
    "shortlisted_df = (material_registry\n",
    "                  .query(\"end_ts_np==@dt and model_type=='entity_traits_360'\")\n",
    "                  .filter([\"model_name\", \"model_hash\", \"seq_no\", \"begin_ts\", \"end_ts\", \"creation_ts\"])\n",
    "                  .sort_values(by='creation_ts', ascending=False)\n",
    "                  .groupby(['model_name', \"seq_no\"])['model_hash']\n",
    "                  .first()\n",
    "                  .reset_index())"
   ]
  },
  {
   "cell_type": "code",
   "execution_count": 13,
   "metadata": {},
   "outputs": [
    {
     "data": {
      "text/plain": [
       "{'model_name': 'anonymous_id_user_default_entity_serve_360',\n",
       " 'seq_no': 42,\n",
       " 'model_hash': '2d3f871e'}"
      ]
     },
     "execution_count": 13,
     "metadata": {},
     "output_type": "execute_result"
    }
   ],
   "source": [
    "# Get the relevant id type view details\n",
    "\n",
    "model_details = shortlisted_df.query(f\"model_name=='{id_type}_{entity_name}_default_entity_serve_360'\").to_dict(orient='records')[0]\n",
    "model_details"
   ]
  },
  {
   "cell_type": "code",
   "execution_count": 14,
   "metadata": {},
   "outputs": [
    {
     "data": {
      "text/plain": [
       "'material_anonymous_id_user_default_entity_serve_360_2d3f871e_42'"
      ]
     },
     "execution_count": 14,
     "metadata": {},
     "output_type": "execute_result"
    }
   ],
   "source": [
    "material_name = f\"material_{model_details['model_name']}_{model_details['model_hash']}_{model_details['seq_no']}\"\n",
    "material_name"
   ]
  },
  {
   "cell_type": "code",
   "execution_count": 15,
   "metadata": {},
   "outputs": [
    {
     "data": {
      "text/html": [
       "<div>\n",
       "<style scoped>\n",
       "    .dataframe tbody tr th:only-of-type {\n",
       "        vertical-align: middle;\n",
       "    }\n",
       "\n",
       "    .dataframe tbody tr th {\n",
       "        vertical-align: top;\n",
       "    }\n",
       "\n",
       "    .dataframe thead th {\n",
       "        text-align: right;\n",
       "    }\n",
       "</style>\n",
       "<table border=\"1\" class=\"dataframe\">\n",
       "  <thead>\n",
       "    <tr style=\"text-align: right;\">\n",
       "      <th></th>\n",
       "      <th>anonymous_id</th>\n",
       "      <th>active_days_in_past_365_days</th>\n",
       "      <th>active_days_in_past_7_days</th>\n",
       "    </tr>\n",
       "  </thead>\n",
       "  <tbody>\n",
       "    <tr>\n",
       "      <th>0</th>\n",
       "      <td>dc5b9ccfe186bec939a501bf257b5f5e2c71cb58</td>\n",
       "      <td>20</td>\n",
       "      <td>1.0</td>\n",
       "    </tr>\n",
       "    <tr>\n",
       "      <th>1</th>\n",
       "      <td>f2bdc0faa416f4d14122701abf0d22695577e33a</td>\n",
       "      <td>25</td>\n",
       "      <td>NaN</td>\n",
       "    </tr>\n",
       "    <tr>\n",
       "      <th>2</th>\n",
       "      <td>d5f4309fcd8fb395f22f5e4d060a7ccad670da35</td>\n",
       "      <td>4</td>\n",
       "      <td>NaN</td>\n",
       "    </tr>\n",
       "    <tr>\n",
       "      <th>3</th>\n",
       "      <td>70ae06a3c5cfd24af797c4f608fe929abd0c03e0</td>\n",
       "      <td>76</td>\n",
       "      <td>1.0</td>\n",
       "    </tr>\n",
       "    <tr>\n",
       "      <th>4</th>\n",
       "      <td>cbbb220fba85977e4a9b44ae7ff0ec106d2c8351</td>\n",
       "      <td>76</td>\n",
       "      <td>1.0</td>\n",
       "    </tr>\n",
       "  </tbody>\n",
       "</table>\n",
       "</div>"
      ],
      "text/plain": [
       "                               anonymous_id  active_days_in_past_365_days  \\\n",
       "0  dc5b9ccfe186bec939a501bf257b5f5e2c71cb58                            20   \n",
       "1  f2bdc0faa416f4d14122701abf0d22695577e33a                            25   \n",
       "2  d5f4309fcd8fb395f22f5e4d060a7ccad670da35                             4   \n",
       "3  70ae06a3c5cfd24af797c4f608fe929abd0c03e0                            76   \n",
       "4  cbbb220fba85977e4a9b44ae7ff0ec106d2c8351                            76   \n",
       "\n",
       "   active_days_in_past_7_days  \n",
       "0                         1.0  \n",
       "1                         NaN  \n",
       "2                         NaN  \n",
       "3                         1.0  \n",
       "4                         1.0  "
      ]
     },
     "execution_count": 15,
     "metadata": {},
     "output_type": "execute_result"
    }
   ],
   "source": [
    "material_data = connector.run_query(f\"select * from {material_name}\")\n",
    "material_data.head()"
   ]
  },
  {
   "cell_type": "markdown",
   "metadata": {},
   "source": []
  }
 ],
 "metadata": {
  "kernelspec": {
   "display_name": "predictions_dev",
   "language": "python",
   "name": "python3"
  },
  "language_info": {
   "codemirror_mode": {
    "name": "ipython",
    "version": 3
   },
   "file_extension": ".py",
   "mimetype": "text/x-python",
   "name": "python",
   "nbconvert_exporter": "python",
   "pygments_lexer": "ipython3",
   "version": "3.10.13"
  }
 },
 "nbformat": 4,
 "nbformat_minor": 2
}
