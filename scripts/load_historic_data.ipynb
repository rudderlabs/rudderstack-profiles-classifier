{
 "cells": [
  {
   "cell_type": "markdown",
   "metadata": {},
   "source": [
    "#### Explanation of materialising and loading the historic C360 data\n",
    "\n",
    "Run following command in terminal to materialise any required timestamp:\n",
    "\n",
    "`> pb run --end_time <required_time_in_unix_timestamp>`\n",
    "\n",
    "This notebook outlines these following steps to fetch that past materialised data:\n",
    "1. Connect to warehouse using ProfilesConnector. The config can be accessed from the siteconfig file without changing any format.\n",
    "2. Load the material registry table, and filter only the successful runs.\n",
    "3. From material registry table, apply following filters to get the model_hash and seq_no of the right materialisation\n",
    "    - `model_type` = 'entity_traits_360'\n",
    "    - `end_ts` = '<unix time from above, after converting to timestamp - see below>'\n",
    "4. There may be multiple materialisations of same end ts. In such cases, it returns the most recently created materialisation details - seq_no and the model hash are the attributes that define a materialisation\n",
    "5. For each materialisation, there are multiple views providing the same C360 view with different identifiers as the primary key (ex: email, user_main_id, anonymous_id etc). By defining the id_type to whatever identifier you choose, we then fetch the appropriate view from warehouse using the model hash and seq_no\n",
    "\n"
   ]
  },
  {
   "cell_type": "code",
   "execution_count": 1,
   "metadata": {},
   "outputs": [],
   "source": [
    "# Params for fetching the past data - \n",
    "# 1. past_materialisation_timestamp in unix timestamp (the one used in pb run command)\n",
    "# 2. id type of the C360 view # will be ignored if serve_trait_name is given.\n",
    "# 3. serve_trait_name: Name of the serve trait (optionally defined in pb_project.yaml, something like user_id_stitched_features). If not provided, it will be generated using the id type and entity name as <id_type>_<entity_name>_default_entity_serve_360\n",
    "# 4. entity name of the profiles project - defined in pb_project.yaml\n",
    "# 5. connection name of the profiles project - mentioned in pb_project.yaml\n",
    "end_time = 1709510400\n",
    "id_type = 'user_id'\n",
    "serve_trait_name = \"user_id_stitched_features\"\n",
    "entity_name = 'user'\n",
    "connection_name = 'default'"
   ]
  },
  {
   "cell_type": "code",
   "execution_count": 2,
   "metadata": {},
   "outputs": [],
   "source": [
    "from profiles_rudderstack.wh import ProfilesConnector\n",
    "import yaml\n",
    "import pandas as pd\n",
    "import os\n",
    "import numpy as np\n",
    "import datetime"
   ]
  },
  {
   "cell_type": "code",
   "execution_count": 3,
   "metadata": {},
   "outputs": [],
   "source": [
    "homedir = os.path.expanduser(\"~\") \n",
    "with open(os.path.join(homedir, \".pb\",\"siteconfig.yaml\"), \"r\") as f:\n",
    "    creds = yaml.safe_load(f)[\"connections\"][connection_name][\"outputs\"][\"dev\"]"
   ]
  },
  {
   "cell_type": "code",
   "execution_count": 4,
   "metadata": {},
   "outputs": [
    {
     "name": "stdout",
     "output_type": "stream",
     "text": [
      "dbname: <dbname>\n",
      "host: <host>\n",
      "password: <password>\n",
      "port: <port>\n",
      "schema: <schema>\n",
      "type: <redshift|bigquery|snowflake etc>\n",
      "user: <user>\n"
     ]
    }
   ],
   "source": [
    "for k, v in creds.items():\n",
    "    print(f\"{k}: <{k if k != 'type' else 'redshift|bigquery|snowflake etc'}>\")"
   ]
  },
  {
   "cell_type": "code",
   "execution_count": 5,
   "metadata": {},
   "outputs": [],
   "source": [
    "connector = ProfilesConnector(config=creds)"
   ]
  },
  {
   "cell_type": "code",
   "execution_count": 6,
   "metadata": {},
   "outputs": [],
   "source": [
    "material_registry = connector.run_query(f\"select * from {creds['schema']}.material_registry_4\")\n",
    "def safe_parse_json(entry):\n",
    "    try:\n",
    "        if isinstance(\n",
    "            entry, str\n",
    "        ): \n",
    "            entry_dict = eval(entry)\n",
    "        elif isinstance(\n",
    "            entry, dict\n",
    "        ):\n",
    "            entry_dict = entry\n",
    "\n",
    "        return entry_dict.get(\"complete\", {}).get(\"status\")\n",
    "    except:\n",
    "        return None\n",
    "\n",
    "material_registry[\"status\"] = material_registry[\"metadata\"].apply(\n",
    "    safe_parse_json\n",
    ")\n",
    "material_registry = material_registry.query(\"status==2\")"
   ]
  },
  {
   "cell_type": "code",
   "execution_count": 7,
   "metadata": {},
   "outputs": [],
   "source": [
    "\n",
    "dt = datetime.datetime.fromtimestamp(end_time, tz=datetime.timezone.utc).replace(tzinfo=None)\n",
    "dt = np.datetime64(dt)\n",
    "material_registry[\"end_ts_np\"] = material_registry[\"end_ts\"].apply(lambda x: x.to_numpy())"
   ]
  },
  {
   "cell_type": "code",
   "execution_count": 8,
   "metadata": {},
   "outputs": [],
   "source": [
    "shortlisted_df = (material_registry\n",
    "                  .query(\"end_ts_np==@dt and model_type=='entity_traits_360'\")\n",
    "                  .filter([\"model_name\", \"model_hash\", \"seq_no\", \"begin_ts\", \"end_ts\", \"creation_ts\"])\n",
    "                  .sort_values(by='creation_ts', ascending=False)\n",
    "                  .groupby(['model_name', \"seq_no\"])['model_hash']\n",
    "                  .first()\n",
    "                  .reset_index())\n",
    "shortlisted_df[\"model_name\"] = shortlisted_df[\"model_name\"].apply(str.lower)"
   ]
  },
  {
   "cell_type": "code",
   "execution_count": 11,
   "metadata": {},
   "outputs": [],
   "source": [
    "if serve_trait_name is None:\n",
    "    serve_trait_name = f\"{id_type}_{entity_name}_default_entity_serve_360\""
   ]
  },
  {
   "cell_type": "code",
   "execution_count": 15,
   "metadata": {},
   "outputs": [],
   "source": []
  },
  {
   "cell_type": "code",
   "execution_count": 16,
   "metadata": {},
   "outputs": [
    {
     "data": {
      "text/plain": [
       "{'model_name': 'user_id_stitched_features',\n",
       " 'seq_no': 839,\n",
       " 'model_hash': '25e91404'}"
      ]
     },
     "execution_count": 16,
     "metadata": {},
     "output_type": "execute_result"
    }
   ],
   "source": [
    "# Get the relevant id type view details\n",
    "\n",
    "model_details = shortlisted_df.query(f\"model_name=='{serve_trait_name}'\").to_dict(orient='records')[0]\n",
    "model_details"
   ]
  },
  {
   "cell_type": "code",
   "execution_count": 17,
   "metadata": {},
   "outputs": [
    {
     "data": {
      "text/plain": [
       "'material_user_id_stitched_features_25e91404_839'"
      ]
     },
     "execution_count": 17,
     "metadata": {},
     "output_type": "execute_result"
    }
   ],
   "source": [
    "material_name = f\"material_{model_details['model_name']}_{model_details['model_hash']}_{model_details['seq_no']}\"\n",
    "material_name"
   ]
  },
  {
   "cell_type": "code",
   "execution_count": 18,
   "metadata": {},
   "outputs": [
    {
     "data": {
      "text/html": [
       "<div>\n",
       "<style scoped>\n",
       "    .dataframe tbody tr th:only-of-type {\n",
       "        vertical-align: middle;\n",
       "    }\n",
       "\n",
       "    .dataframe tbody tr th {\n",
       "        vertical-align: top;\n",
       "    }\n",
       "\n",
       "    .dataframe thead th {\n",
       "        text-align: right;\n",
       "    }\n",
       "</style>\n",
       "<table border=\"1\" class=\"dataframe\">\n",
       "  <thead>\n",
       "    <tr style=\"text-align: right;\">\n",
       "      <th></th>\n",
       "      <th>user_id</th>\n",
       "      <th>days_active</th>\n",
       "      <th>user_lifespan</th>\n",
       "    </tr>\n",
       "  </thead>\n",
       "  <tbody>\n",
       "    <tr>\n",
       "      <th>0</th>\n",
       "      <td>identified user id 2</td>\n",
       "      <td>1</td>\n",
       "      <td>0</td>\n",
       "    </tr>\n",
       "    <tr>\n",
       "      <th>1</th>\n",
       "      <td>identified user id 3</td>\n",
       "      <td>1</td>\n",
       "      <td>0</td>\n",
       "    </tr>\n",
       "    <tr>\n",
       "      <th>2</th>\n",
       "      <td>identified user id 23</td>\n",
       "      <td>1</td>\n",
       "      <td>0</td>\n",
       "    </tr>\n",
       "    <tr>\n",
       "      <th>3</th>\n",
       "      <td>identified user id 2323</td>\n",
       "      <td>1</td>\n",
       "      <td>0</td>\n",
       "    </tr>\n",
       "    <tr>\n",
       "      <th>4</th>\n",
       "      <td>identified user id</td>\n",
       "      <td>1</td>\n",
       "      <td>0</td>\n",
       "    </tr>\n",
       "  </tbody>\n",
       "</table>\n",
       "</div>"
      ],
      "text/plain": [
       "                   user_id  days_active  user_lifespan\n",
       "0     identified user id 2            1              0\n",
       "1     identified user id 3            1              0\n",
       "2    identified user id 23            1              0\n",
       "3  identified user id 2323            1              0\n",
       "4       identified user id            1              0"
      ]
     },
     "execution_count": 18,
     "metadata": {},
     "output_type": "execute_result"
    }
   ],
   "source": [
    "material_data = connector.run_query(f\"select * from {creds['schema']}.{material_name}\")\n",
    "material_data.head()"
   ]
  }
 ],
 "metadata": {
  "kernelspec": {
   "display_name": "predictions_dev",
   "language": "python",
   "name": "python3"
  },
  "language_info": {
   "codemirror_mode": {
    "name": "ipython",
    "version": 3
   },
   "file_extension": ".py",
   "mimetype": "text/x-python",
   "name": "python",
   "nbconvert_exporter": "python",
   "pygments_lexer": "ipython3",
   "version": "3.10.13"
  }
 },
 "nbformat": 4,
 "nbformat_minor": 2
}
